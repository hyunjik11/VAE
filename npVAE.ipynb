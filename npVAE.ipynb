{
 "metadata": {
  "name": "",
  "signature": "sha256:5ccb1f7095626bbd9e71d8bb0d6082b151e894a27cd8687a640562c0e1c69b34"
 },
 "nbformat": 3,
 "nbformat_minor": 0,
 "worksheets": [
  {
   "cells": [
    {
     "cell_type": "code",
     "collapsed": false,
     "input": [
      "import numpy as np\n",
      "import tensorflow as tf\n",
      "\n",
      "import matplotlib.pyplot as plt\n",
      "#%matplotlib inline\n",
      "\n",
      "np.random.seed(0)\n",
      "tf.set_random_seed(0)\n",
      "from tensorflow.examples.tutorials.mnist import input_data\n",
      "mnist = input_data.read_data_sets(\"MNIST_data\")\n",
      "n_train_samples = mnist.train.num_examples\n",
      "n_valid_samples = mnist.validation.num_examples\n",
      "n_total_samples = n_train_samples + n_valid_samples\n",
      "# using images with pixel values in {0,1}. i.e. p(x|z) is bernoulli"
     ],
     "language": "python",
     "metadata": {},
     "outputs": [
      {
       "output_type": "stream",
       "stream": "stdout",
       "text": [
        "Extracting MNIST_data/train-images-idx3-ubyte.gz\n",
        "Extracting"
       ]
      },
      {
       "output_type": "stream",
       "stream": "stdout",
       "text": [
        " MNIST_data/train-labels-idx1-ubyte.gz\n",
        "Extracting MNIST_data/t10k-images-idx3-ubyte.gz\n",
        "Extracting"
       ]
      },
      {
       "output_type": "stream",
       "stream": "stdout",
       "text": [
        " MNIST_data/t10k-labels-idx1-ubyte.gz\n"
       ]
      }
     ],
     "prompt_number": 1
    },
    {
     "cell_type": "code",
     "collapsed": false,
     "input": [
      "a=[1,2,3]\n",
      "b=convert_col_idx(3,a)\n",
      "b"
     ],
     "language": "python",
     "metadata": {},
     "outputs": [
      {
       "metadata": {},
       "output_type": "pyout",
       "prompt_number": 49,
       "text": [
        "array([ 3,  4,  5,  6,  7,  8,  9, 10, 11])"
       ]
      }
     ],
     "prompt_number": 49
    },
    {
     "cell_type": "code",
     "collapsed": false,
     "input": [
      "def xavier_init(fan_in, fan_out, constant=1): \n",
      "    \"\"\" Xavier initialization of network weights\"\"\"\n",
      "    # https://stackoverflow.com/questions/33640581/how-to-do-xavier-initialization-on-tensorflow\n",
      "    low = -constant*np.sqrt(6.0/(fan_in + fan_out)) \n",
      "    high = constant*np.sqrt(6.0/(fan_in + fan_out))\n",
      "    return tf.random_uniform((fan_in, fan_out), \n",
      "                             minval=low, maxval=high, \n",
      "                             dtype=tf.float32)\n",
      "\n",
      "def gauss_init(n_params,stddev=1): #initialise params by Gaussians\n",
      "    return tf.random_normal([n_params],stddev=stddev,dtype=tf.float32)\n",
      "\n",
      "def convert_col_idx(n_z,idx): \n",
      "# convert col indices of 2D array with n_z rows to indices for flattened vector\n",
      "    ncol=len(idx)\n",
      "    indices=np.empty(n_z*ncol,dtype=int)\n",
      "    for i in xrange(0,ncol):\n",
      "        indices[i*n_z:(i+1)*n_z]=np.arange(idx[i]*n_z,(idx[i]+1)*n_z)\n",
      "    return indices\n",
      "\n",
      "def bernoullisample(x):\n",
      "    return np.random.binomial(1,x,size=x.shape)"
     ],
     "language": "python",
     "metadata": {},
     "outputs": [],
     "prompt_number": 2
    },
    {
     "cell_type": "code",
     "collapsed": false,
     "input": [
      "a=tf.placeholder(tf.int32, [3])\n",
      "tf.shape(a)[0]"
     ],
     "language": "python",
     "metadata": {},
     "outputs": [
      {
       "metadata": {},
       "output_type": "pyout",
       "prompt_number": 44,
       "text": [
        "<tf.Tensor 'Squeeze_2:0' shape=() dtype=int32>"
       ]
      }
     ],
     "prompt_number": 44
    },
    {
     "cell_type": "code",
     "collapsed": false,
     "input": [
      "class VariationalAutoencoder(object):\n",
      "    \"\"\" Variation Autoencoder (VAE) with an sklearn-like interface implemented using TensorFlow.\n",
      "    \n",
      "    This implementation uses probabilistic encoders and decoders using Gaussian \n",
      "    distributions and  realized by multi-layer perceptrons. The VAE can be learned\n",
      "    end-to-end.\n",
      "    \n",
      "    See \"Auto-Encoding Variational Bayes\" by Kingma and Welling for more details.\n",
      "    \"\"\"\n",
      "    def __init__(self, network_architecture, transfer_fct=tf.nn.softplus, \n",
      "                 learning_rate=0.001, batch_size=100):\n",
      "        self.network_architecture = network_architecture\n",
      "        self.transfer_fct = transfer_fct\n",
      "        self.learning_rate = learning_rate\n",
      "        self.batch_size = batch_size\n",
      "        \n",
      "        # tf Graph input (placeholder objects can only be used as input, and can't be evaluated)\n",
      "        self.x = tf.placeholder(tf.float32, [None, network_architecture[\"n_input\"]])\n",
      "        \n",
      "        # placeholder object for indices of params in recog net\n",
      "        # corresponding to  minibatch (use 0 indexing)\n",
      "        self.idx = tf.placeholder(tf.int32, [batch_size*network_architecture[\"n_z\"]])\n",
      "        \n",
      "        # Create autoencoder network\n",
      "        self._create_network()\n",
      "        # Define loss function based variational upper-bound and \n",
      "        # corresponding optimizer\n",
      "        self._create_loss()\n",
      "        \n",
      "        # Initializing the tensor flow variables\n",
      "        init = tf.initialize_all_variables()\n",
      "\n",
      "        # Launch the session\n",
      "        self.sess = tf.InteractiveSession()\n",
      "        self.sess.run(init) #run __init__ function\n",
      "    \n",
      "    def _create_network(self):\n",
      "        # Initialize autoencode network weights and biases\n",
      "        self._initialize_weights(**self.network_architecture)\n",
      "        # this feeds in the values of self.network_architecture as arguments to _initialize_weights\n",
      "        \n",
      "        # Use recognition network to determine mean and \n",
      "        # (log) variance of Gaussian distribution in latent\n",
      "        # space\n",
      "        n_z = self.network_architecture[\"n_z\"]\n",
      "        n_samples = self.network_architecture[\"n_samples\"]\n",
      "        self.z_mean, self.z_log_sigma_sq = \\\n",
      "            self._recognition_network(n_z,n_samples)\n",
      "\n",
      "        # Draw one sample z from Gaussian distribution\n",
      "        # n_z is dimensionality of latent space\n",
      "        eps = tf.random_normal((self.batch_size, n_z), 0, 1, \n",
      "                               dtype=tf.float32)\n",
      "        # z = mu + sigma*epsilon\n",
      "        self.z = tf.add(self.z_mean, \n",
      "                        tf.mul(tf.sqrt(tf.exp(self.z_log_sigma_sq)), eps))\n",
      "\n",
      "        # Use generator to determine mean of\n",
      "        # Bernoulli distribution of reconstructed input\n",
      "        self.x_reconstr_mean = \\\n",
      "            self._generator_network()\n",
      "            \n",
      "    def _initialize_weights(self, n_samples, \n",
      "                            n_hidden_gener_1, n_hidden_gener_2, n_input, n_z):\n",
      "        # initialize weights, stored in dictionary all_weights (member of VAE class)\n",
      "        # these are all the variables that will be learned\n",
      "        # Use Xaiver init for weights, 0 for biases\n",
      "        all_weights = dict()\n",
      "        all_weights['params_recog'] = {\n",
      "            'mu': tf.Variable(gauss_init(n_z*n_samples)),\n",
      "            'log_sigma_sq': tf.Variable(gauss_init(n_z*n_samples))}\n",
      "            # stack each column of params(n_z by n_samples) into one column vector\n",
      "        all_weights['weights_gener'] = {\n",
      "            'h1': tf.Variable(xavier_init(n_z, n_hidden_gener_1)),\n",
      "            'h2': tf.Variable(xavier_init(n_hidden_gener_1, n_hidden_gener_2)),\n",
      "            'out_mean': tf.Variable(xavier_init(n_hidden_gener_2, n_input)),\n",
      "            'out_log_sigma': tf.Variable(xavier_init(n_hidden_gener_2, n_input))}\n",
      "        all_weights['biases_gener'] = {\n",
      "            'b1': tf.Variable(tf.zeros([n_hidden_gener_1], dtype=tf.float32)),\n",
      "            'b2': tf.Variable(tf.zeros([n_hidden_gener_2], dtype=tf.float32)),\n",
      "            'out_mean': tf.Variable(tf.zeros([n_input], dtype=tf.float32)),\n",
      "            'out_log_sigma': tf.Variable(tf.zeros([n_input], dtype=tf.float32))}\n",
      "        self.params1=all_weights['params_recog']['mu']\n",
      "        self.params2=all_weights['params_recog']['log_sigma_sq']\n",
      "        self.weights1=all_weights['weights_gener']['h1']\n",
      "        self.weights2=all_weights['weights_gener']['h2']\n",
      "        self.weights3=all_weights['weights_gener']['out_mean']\n",
      "        self.weights4=all_weights['weights_gener']['out_log_sigma']\n",
      "        self.weights5=all_weights['biases_gener']['b1']\n",
      "        self.weights6=all_weights['biases_gener']['b2']\n",
      "        self.weights7=all_weights['biases_gener']['out_mean']\n",
      "        self.weights8=all_weights['biases_gener']['out_log_sigma']\n",
      "            \n",
      "    def _recognition_network(self, n_z, n_samples):\n",
      "        # The approximate posterior distribution, which is a fully factorized Gaussian \n",
      "        # in the latent variables.\n",
      "        # Output mean and log_sigma_sq of z_n for the minibatch given by self.idx\n",
      "        z_mean = tf.reshape(tf.gather(self.params1,self.idx),[-1,n_z])\n",
      "        z_log_sigma_sq = tf.reshape(tf.gather(self.params2,self.idx),[-1,n_z])\n",
      "        return (z_mean, z_log_sigma_sq)\n",
      "\n",
      "    def _generator_network(self):\n",
      "        # Generate probabilistic decoder (decoder network), which\n",
      "        # maps points in latent space onto mean param of Bernoulli distribution in data space.\n",
      "        # The transformation is parametrized and can be learned.\n",
      "        layer_1 = self.transfer_fct(tf.add(tf.matmul(self.z, self.weights1), \n",
      "                                           self.weights5)) \n",
      "        layer_2 = self.transfer_fct(tf.add(tf.matmul(layer_1, self.weights2), \n",
      "                                           self.weights6)) \n",
      "        x_reconstr_mean = \\\n",
      "            tf.nn.sigmoid(tf.add(tf.matmul(layer_2, self.weights3), \n",
      "                                 self.weights7))\n",
      "        return x_reconstr_mean\n",
      "            \n",
      "    def _create_loss(self):\n",
      "        # The loss is composed of two terms:\n",
      "        # 1.) The reconstruction loss (the negative log probability\n",
      "        #     of the input under the reconstructed Bernoulli distribution \n",
      "        #     induced by the decoder in the data space).\n",
      "        #     This can be interpreted as the number of \"nats\" required\n",
      "        #     for reconstructing the input when the activation in latent\n",
      "        #     is given.\n",
      "        # Adding 1e-10 to avoid evaluatio of log(0.0)\n",
      "        reconstr_loss = \\\n",
      "            -tf.reduce_sum(self.x * tf.log(1e-10 + self.x_reconstr_mean)\n",
      "                           + (1-self.x) * tf.log(1e-10 + 1 - self.x_reconstr_mean),\n",
      "                           1)\n",
      "        # reduce_sum(x,1) is summing the rows of x (i.e. summing across input dim)\n",
      "        # * is elementwise multiplication\n",
      "        \n",
      "        # 2.) The latent loss, which is defined as the Kullback Leibler divergence \n",
      "        ##    between the distribution in latent space induced by the encoder on \n",
      "        #     the data and some prior. This acts as a kind of regularizer.\n",
      "        #     This can be interpreted as the number of \"nats\" required\n",
      "        #     for transmitting the the latent space distribution given\n",
      "        #     the prior.\n",
      "        latent_loss = -0.5 * tf.reduce_sum(1 + self.z_log_sigma_sq \n",
      "                                           - tf.square(self.z_mean) \n",
      "                                           - tf.exp(self.z_log_sigma_sq), 1)\n",
      "        self.reconstr = tf.reduce_mean(reconstr_loss)\n",
      "        self.latent = tf.reduce_mean(latent_loss)\n",
      "        self.cost = self.reconstr + self.latent\n",
      "        #self.cost = tf.reduce_mean(reconstr_loss + latent_loss)   # average over batch\n",
      "    \n",
      "    #def optimize(self):\n",
      "        # Use ADAM optimizer\n",
      "        self.optimizer = tf.train.AdamOptimizer(learning_rate=self.learning_rate).minimize(self.cost)\n",
      "        # optimizer = tf.train.AdamOptimizer(learning_rate=self.learning_rate)\n",
      "        # Clip gradients\n",
      "        # gvs = optimizer.compute_gradients(self.cost)\n",
      "        # capped_gvs = [(tf.clip_by_norm(gv[0], Inf), gv[1]) for gv in gvs]\n",
      "        # optimizer.apply_gradients(gvs)\n",
      "        \n",
      "        \n",
      "    def partial_fit(self, X, myidx):\n",
      "        \"\"\"Train model based on mini-batch of input data.\n",
      "        \n",
      "        Return cost of mini-batch.\n",
      "        \"\"\"\n",
      "        opt, cost, weights1, weights2, weights3, weights4, weights5,weights6,weights7,weights8 \\\n",
      "        = self.sess.run((self.optimizer,self.cost, self.weights1, self.weights2, self.weights3, \\\n",
      "                        self.weights4, self.weights5, self.weights6, self.weights7, self.weights8), \\\n",
      "                        feed_dict={self.x: X, self.idx: myidx})\n",
      "        return (cost, weights1,weights2,weights3,weights4,weights5,weights6,weights7,weights8)\n",
      "    \n",
      "    def generate(self, z_mu=None):\n",
      "        \"\"\" Generate data by sampling from latent space.\n",
      "        \n",
      "        If z_mu is not None, data for this point in latent space is\n",
      "        generated. Otherwise, z_mu is drawn from prior in latent \n",
      "        space.        \n",
      "        \"\"\"\n",
      "        if z_mu is None:\n",
      "            z_mu = np.random.normal(size=self.network_architecture[\"n_z\"])\n",
      "        # Note: This maps to mean of distribution, we could alternatively\n",
      "        # sample from Gaussian(Bernoulli?) distribution\n",
      "        return self.sess.run(self.x_reconstr_mean, \n",
      "                             feed_dict={self.z: z_mu})\n",
      "    \n",
      "    def reconstruct(self, X):\n",
      "        \"\"\" Use VAE to reconstruct given data. \"\"\"\n",
      "        return self.sess.run(self.x_reconstr_mean, \n",
      "                             feed_dict={self.x: X})\n",
      "    \n",
      "    def test_cost(self, X):\n",
      "        \"\"\" Return cost of mini-batch without further training. \"\"\"\n",
      "        return self.sess.run(self.cost,feed_dict={self.x: X})\n",
      "        "
     ],
     "language": "python",
     "metadata": {},
     "outputs": [],
     "prompt_number": 16
    },
    {
     "cell_type": "code",
     "collapsed": false,
     "input": [
      "def train(network_architecture, learning_rate=0.001,\n",
      "          batch_size=100, training_epochs=10, display_step=5, transfer_fct=tf.nn.softplus):\n",
      "    vae = VariationalAutoencoder(network_architecture, \n",
      "                                 learning_rate=learning_rate, \n",
      "                                 batch_size=batch_size,transfer_fct=transfer_fct)\n",
      "    # Training cycle\n",
      "    np.random.seed(0)\n",
      "    for epoch in range(training_epochs):\n",
      "        avg_cost = 0.; avg_reconstr = 0.; avg_latent = 0.;\n",
      "        z_mean_max = -1.0; z_sigma_sq_min= 100.0;\n",
      "        testcost=0.;\n",
      "        weights_max = 0;\n",
      "        total_train_batch = int(n_train_samples / batch_size)\n",
      "        # total_valid_batch = int(n_valid_samples / batch_size)\n",
      "        # total_batch = total_train_batch + total_valid_batch\n",
      "        # Loop over all batches\n",
      "        for i in range(total_train_batch):\n",
      "            #if i < total_train_batch:\n",
      "            batch_xs, _ , batch_idx = mnist.train.next_batch(batch_size)\n",
      "            #else:\n",
      "            #    batch_xs, _ = mnist.validation.next_batch(batch_size)\n",
      "            # Fit training using batch data\n",
      "            batch_xs = bernoullisample(batch_xs)\n",
      "            idx = convert_col_idx(network_architecture[\"n_z\"],batch_idx) \n",
      "            \n",
      "            cost, weights1,weights2,weights3,weights4,weights5,weights6,weights7,weights8 = vae.partial_fit(batch_xs, idx)\n",
      "            # Compute average training ELBO\n",
      "            # z_mean_max = np.maximum(np.amax(z_mean),z_mean_max)\n",
      "            # z_sigma_sq_min = np.minimum(np.exp(np.amin(z_log_sigma_sq)),z_sigma_sq_min)\n",
      "            #avg_reconstr += reconstr / n_train_samples * batch_size\n",
      "            #avg_latent += latent / n_train_samples * batch_size\n",
      "            weights_max = max(np.amax(np.absolute(weights1)),\n",
      "                              np.amax(np.absolute(weights2)),\n",
      "                              np.amax(np.absolute(weights3)),\n",
      "                              np.amax(np.absolute(weights4)),\n",
      "                              np.amax(np.absolute(weights5)),\n",
      "                              np.amax(np.absolute(weights6)),\n",
      "                              np.amax(np.absolute(weights7)),\n",
      "                              np.amax(np.absolute(weights8)),\n",
      "                              weights_max)\n",
      "            avg_cost += cost / n_train_samples * batch_size\n",
      "\n",
      "        # Display logs per epoch step\n",
      "        if epoch % display_step == 0:\n",
      "            #for i in range(total_test_batch):\n",
      "            #    batch_xs, _ = mnist.test.next_batch(batch_size)\n",
      "            #    batch_xs = bernoullisample(batch_xs)\n",
      "            #    testcost += vae.test_cost(batch_xs) / n_test_samples * batch_size\n",
      "                \n",
      "            print \"Epoch:\", '%04d' % (epoch+1), \\\n",
      "                  \"trainELBO=\", \"{:.3f}\".format(avg_cost), \\\n",
      "                  \"weights_max=\", \"{:.4f}\".format(weights_max)\n",
      "                  #\"Reconstr=\", \"{:.3f}\".format(avg_reconstr), \\\n",
      "                  #\"Latent=\", \"{:.3f}\".format(avg_latent), \\\n",
      "                  #\"z_mean_max=\", \"{:.4f}\".format(z_mean_max), \\\n",
      "                  #\"z_sigma_sq_min=\", \"{:.4f}\".format(z_sigma_sq_min)\n",
      "    return vae"
     ],
     "language": "python",
     "metadata": {},
     "outputs": [],
     "prompt_number": 19
    },
    {
     "cell_type": "code",
     "collapsed": false,
     "input": [
      "network_architecture = \\\n",
      "    dict(n_samples=n_train_samples, # number of training data points\n",
      "         n_hidden_gener_1=500, # 1st layer decoder neurons\n",
      "         n_hidden_gener_2=500, # 2nd layer decoder neurons\n",
      "         n_input=784, # MNIST data input (img shape: 28*28)\n",
      "         n_z=20)  # dimensionality of latent space\n",
      "\n",
      "CUDA_VISIBLE_DEVICES=\"1,2,4,5,6,7\"\n",
      "vae = train(network_architecture, batch_size=100,training_epochs=500, display_step=1, transfer_fct=tf.nn.relu)\n",
      "vae.sess.close()"
     ],
     "language": "python",
     "metadata": {},
     "outputs": [
      {
       "output_type": "stream",
       "stream": "stdout",
       "text": [
        "Epoch: 0001 trainELBO= 229.970 weights_max= 0.1778\n",
        "Epoch:"
       ]
      },
      {
       "output_type": "stream",
       "stream": "stdout",
       "text": [
        " 0002 trainELBO= 223.444 weights_max= 0.3456\n",
        "Epoch:"
       ]
      },
      {
       "output_type": "stream",
       "stream": "stdout",
       "text": [
        " 0003 trainELBO= 222.324 weights_max= 0.3791\n",
        "Epoch:"
       ]
      },
      {
       "output_type": "stream",
       "stream": "stdout",
       "text": [
        " 0004 trainELBO= 222.165 weights_max= 0.4709\n",
        "Epoch:"
       ]
      },
      {
       "output_type": "stream",
       "stream": "stdout",
       "text": [
        " 0005 trainELBO= 221.463 weights_max= 0.6567\n",
        "Epoch:"
       ]
      },
      {
       "output_type": "stream",
       "stream": "stdout",
       "text": [
        " 0006 trainELBO= 220.870 weights_max= 0.8493\n",
        "Epoch:"
       ]
      },
      {
       "output_type": "stream",
       "stream": "stdout",
       "text": [
        " 0007 trainELBO= 220.307 weights_max= 1.0341\n",
        "Epoch:"
       ]
      },
      {
       "output_type": "stream",
       "stream": "stdout",
       "text": [
        " 0008 trainELBO= 219.821 weights_max= 1.2129\n",
        "Epoch:"
       ]
      },
      {
       "output_type": "stream",
       "stream": "stdout",
       "text": [
        " 0009 trainELBO= 219.356 weights_max= 1.3921\n",
        "Epoch:"
       ]
      },
      {
       "output_type": "stream",
       "stream": "stdout",
       "text": [
        " 0010 trainELBO= 218.890 weights_max= 1.5659\n",
        "Epoch:"
       ]
      },
      {
       "output_type": "stream",
       "stream": "stdout",
       "text": [
        " 0011 trainELBO= 218.486 weights_max= 1.7463\n",
        "Epoch:"
       ]
      },
      {
       "output_type": "stream",
       "stream": "stdout",
       "text": [
        " 0012 trainELBO= 218.248 weights_max= 1.9082\n",
        "Epoch:"
       ]
      },
      {
       "output_type": "stream",
       "stream": "stdout",
       "text": [
        " 0013 trainELBO= 217.475 weights_max= 2.0757\n",
        "Epoch:"
       ]
      },
      {
       "output_type": "stream",
       "stream": "stdout",
       "text": [
        " 0014 trainELBO= 217.355 weights_max= 2.2380\n",
        "Epoch:"
       ]
      },
      {
       "output_type": "stream",
       "stream": "stdout",
       "text": [
        " 0015 trainELBO= 216.644 weights_max= 2.3940\n",
        "Epoch:"
       ]
      },
      {
       "output_type": "stream",
       "stream": "stdout",
       "text": [
        " 0016 trainELBO= 216.368 weights_max= 2.5357\n",
        "Epoch:"
       ]
      },
      {
       "output_type": "stream",
       "stream": "stdout",
       "text": [
        " 0017 trainELBO= 215.804 weights_max= 2.6713\n",
        "Epoch:"
       ]
      },
      {
       "output_type": "stream",
       "stream": "stdout",
       "text": [
        " 0018 trainELBO= 215.659 weights_max= 2.8113\n",
        "Epoch:"
       ]
      },
      {
       "output_type": "stream",
       "stream": "stdout",
       "text": [
        " 0019 trainELBO= 214.841 weights_max= 2.9412\n",
        "Epoch:"
       ]
      },
      {
       "output_type": "stream",
       "stream": "stdout",
       "text": [
        " 0020 trainELBO= 214.357 weights_max= 3.0627\n",
        "Epoch:"
       ]
      },
      {
       "output_type": "stream",
       "stream": "stdout",
       "text": [
        " 0021 trainELBO= 214.041 weights_max= 3.1818\n",
        "Epoch:"
       ]
      },
      {
       "output_type": "stream",
       "stream": "stdout",
       "text": [
        " 0022 trainELBO= 213.376 weights_max= 3.3022\n",
        "Epoch:"
       ]
      },
      {
       "output_type": "stream",
       "stream": "stdout",
       "text": [
        " 0023 trainELBO= 212.716 weights_max= 3.4243\n",
        "Epoch:"
       ]
      },
      {
       "output_type": "stream",
       "stream": "stdout",
       "text": [
        " 0024 trainELBO= 212.393 weights_max= 3.5527\n",
        "Epoch:"
       ]
      },
      {
       "output_type": "stream",
       "stream": "stdout",
       "text": [
        " 0025 trainELBO= 211.524 weights_max= 3.6726\n",
        "Epoch:"
       ]
      },
      {
       "output_type": "stream",
       "stream": "stdout",
       "text": [
        " 0026 trainELBO= 210.909 weights_max= 3.7764\n",
        "Epoch:"
       ]
      },
      {
       "output_type": "stream",
       "stream": "stdout",
       "text": [
        " 0027 trainELBO= 210.586 weights_max= 3.8847\n",
        "Epoch:"
       ]
      },
      {
       "output_type": "stream",
       "stream": "stdout",
       "text": [
        " 0028 trainELBO= 209.606 weights_max= 3.9870\n",
        "Epoch:"
       ]
      },
      {
       "output_type": "stream",
       "stream": "stdout",
       "text": [
        " 0029 trainELBO= 209.096 weights_max= 4.0894\n",
        "Epoch:"
       ]
      },
      {
       "output_type": "stream",
       "stream": "stdout",
       "text": [
        " 0030 trainELBO= 208.629 weights_max= 4.1988\n",
        "Epoch:"
       ]
      },
      {
       "output_type": "stream",
       "stream": "stdout",
       "text": [
        " 0031 trainELBO= 207.902 weights_max= 4.3050\n",
        "Epoch:"
       ]
      },
      {
       "output_type": "stream",
       "stream": "stdout",
       "text": [
        " 0032 trainELBO= 207.139 weights_max= 4.3990\n",
        "Epoch:"
       ]
      },
      {
       "output_type": "stream",
       "stream": "stdout",
       "text": [
        " 0033 trainELBO= 206.740 weights_max= 4.5104\n",
        "Epoch:"
       ]
      },
      {
       "output_type": "stream",
       "stream": "stdout",
       "text": [
        " 0034 trainELBO= 205.971 weights_max= 4.6211\n",
        "Epoch:"
       ]
      },
      {
       "output_type": "stream",
       "stream": "stdout",
       "text": [
        " 0035 trainELBO= 205.148 weights_max= 4.7262\n",
        "Epoch:"
       ]
      },
      {
       "output_type": "stream",
       "stream": "stdout",
       "text": [
        " 0036 trainELBO= 204.568 weights_max= 4.8311\n",
        "Epoch:"
       ]
      },
      {
       "output_type": "stream",
       "stream": "stdout",
       "text": [
        " 0037 trainELBO= 204.370 weights_max= 4.9367\n",
        "Epoch:"
       ]
      },
      {
       "output_type": "stream",
       "stream": "stdout",
       "text": [
        " 0038 trainELBO= 203.405 weights_max= 5.0425\n",
        "Epoch:"
       ]
      },
      {
       "output_type": "stream",
       "stream": "stdout",
       "text": [
        " 0039 trainELBO= 202.965 weights_max= 5.1314\n",
        "Epoch:"
       ]
      },
      {
       "output_type": "stream",
       "stream": "stdout",
       "text": [
        " 0040 trainELBO= 202.482 weights_max= 5.2123\n",
        "Epoch:"
       ]
      },
      {
       "output_type": "stream",
       "stream": "stdout",
       "text": [
        " 0041 trainELBO= 201.430 weights_max= 5.3939\n",
        "Epoch:"
       ]
      },
      {
       "output_type": "stream",
       "stream": "stdout",
       "text": [
        " 0042 trainELBO= 201.307 weights_max= 5.8112\n",
        "Epoch:"
       ]
      },
      {
       "output_type": "stream",
       "stream": "stdout",
       "text": [
        " 0043 trainELBO= 200.391 weights_max= 6.1716\n",
        "Epoch:"
       ]
      },
      {
       "output_type": "stream",
       "stream": "stdout",
       "text": [
        " 0044 trainELBO= 199.652 weights_max= 6.4812\n",
        "Epoch:"
       ]
      },
      {
       "output_type": "stream",
       "stream": "stdout",
       "text": [
        " 0045 trainELBO= 199.043 weights_max= 6.8815\n",
        "Epoch:"
       ]
      },
      {
       "output_type": "stream",
       "stream": "stdout",
       "text": [
        " 0046 trainELBO= 198.678 weights_max= 7.1885\n",
        "Epoch:"
       ]
      },
      {
       "output_type": "stream",
       "stream": "stdout",
       "text": [
        " 0047 trainELBO= 197.831 weights_max= 7.6019\n",
        "Epoch:"
       ]
      },
      {
       "output_type": "stream",
       "stream": "stdout",
       "text": [
        " 0048 trainELBO= 197.311 weights_max= 8.0520\n",
        "Epoch:"
       ]
      },
      {
       "output_type": "stream",
       "stream": "stdout",
       "text": [
        " 0049 trainELBO= 196.696 weights_max= 8.5848\n",
        "Epoch:"
       ]
      },
      {
       "output_type": "stream",
       "stream": "stdout",
       "text": [
        " 0050 trainELBO= 196.048 weights_max= 9.1247\n",
        "Epoch:"
       ]
      },
      {
       "output_type": "stream",
       "stream": "stdout",
       "text": [
        " 0051 trainELBO= 195.648 weights_max= 9.5212\n",
        "Epoch:"
       ]
      },
      {
       "output_type": "stream",
       "stream": "stdout",
       "text": [
        " 0052 trainELBO= 194.858 weights_max= 9.9011\n",
        "Epoch:"
       ]
      },
      {
       "output_type": "stream",
       "stream": "stdout",
       "text": [
        " 0053 trainELBO= 194.319 weights_max= 10.1293\n",
        "Epoch:"
       ]
      },
      {
       "output_type": "stream",
       "stream": "stdout",
       "text": [
        " 0054 trainELBO= 193.971 weights_max= 10.0977\n",
        "Epoch:"
       ]
      },
      {
       "output_type": "stream",
       "stream": "stdout",
       "text": [
        " 0055 trainELBO= 192.926 weights_max= 10.0811\n",
        "Epoch:"
       ]
      },
      {
       "output_type": "stream",
       "stream": "stdout",
       "text": [
        " 0056 trainELBO= 192.378 weights_max= 10.0761\n",
        "Epoch:"
       ]
      },
      {
       "output_type": "stream",
       "stream": "stdout",
       "text": [
        " 0057 trainELBO= 191.762 weights_max= 10.0785\n",
        "Epoch:"
       ]
      },
      {
       "output_type": "stream",
       "stream": "stdout",
       "text": [
        " 0058 trainELBO= 191.172 weights_max= 10.0815\n",
        "Epoch:"
       ]
      },
      {
       "output_type": "stream",
       "stream": "stdout",
       "text": [
        " 0059 trainELBO= 190.804 weights_max= 10.0846\n",
        "Epoch:"
       ]
      },
      {
       "output_type": "stream",
       "stream": "stdout",
       "text": [
        " 0060 trainELBO= 189.837 weights_max= 10.0849\n",
        "Epoch:"
       ]
      },
      {
       "output_type": "stream",
       "stream": "stdout",
       "text": [
        " 0061 trainELBO= 189.475 weights_max= 10.0424\n",
        "Epoch:"
       ]
      },
      {
       "output_type": "stream",
       "stream": "stdout",
       "text": [
        " 0062 trainELBO= 188.897 weights_max= 10.0154\n",
        "Epoch:"
       ]
      },
      {
       "output_type": "stream",
       "stream": "stdout",
       "text": [
        " 0063 trainELBO= 188.447 weights_max= 10.0167\n",
        "Epoch:"
       ]
      },
      {
       "output_type": "stream",
       "stream": "stdout",
       "text": [
        " 0064 trainELBO= 187.886 weights_max= 10.0182\n",
        "Epoch:"
       ]
      },
      {
       "output_type": "stream",
       "stream": "stdout",
       "text": [
        " 0065 trainELBO= 187.377 weights_max= 10.0200\n",
        "Epoch:"
       ]
      },
      {
       "output_type": "stream",
       "stream": "stdout",
       "text": [
        " 0066 trainELBO= 186.793 weights_max= 10.0202\n",
        "Epoch:"
       ]
      },
      {
       "output_type": "stream",
       "stream": "stdout",
       "text": [
        " 0067 trainELBO= 186.164 weights_max= 10.0554\n",
        "Epoch:"
       ]
      },
      {
       "output_type": "stream",
       "stream": "stdout",
       "text": [
        " 0068 trainELBO= 185.891 weights_max= 10.2423\n",
        "Epoch:"
       ]
      },
      {
       "output_type": "stream",
       "stream": "stdout",
       "text": [
        " 0069 trainELBO= 185.432 weights_max= 10.3924\n",
        "Epoch:"
       ]
      },
      {
       "output_type": "stream",
       "stream": "stdout",
       "text": [
        " 0070 trainELBO= 184.328 weights_max= 10.5671\n",
        "Epoch:"
       ]
      },
      {
       "output_type": "stream",
       "stream": "stdout",
       "text": [
        " 0071 trainELBO= 184.557 weights_max= 10.7890\n",
        "Epoch:"
       ]
      },
      {
       "output_type": "stream",
       "stream": "stdout",
       "text": [
        " 0072 trainELBO= 184.012 weights_max= 11.0083\n",
        "Epoch:"
       ]
      },
      {
       "output_type": "stream",
       "stream": "stdout",
       "text": [
        " 0073 trainELBO= 182.992 weights_max= 11.2260\n",
        "Epoch:"
       ]
      },
      {
       "output_type": "stream",
       "stream": "stdout",
       "text": [
        " 0074 trainELBO= 182.870 weights_max= 11.4381\n",
        "Epoch:"
       ]
      },
      {
       "output_type": "stream",
       "stream": "stdout",
       "text": [
        " 0075 trainELBO= 182.539 weights_max= 11.6061\n",
        "Epoch:"
       ]
      },
      {
       "output_type": "stream",
       "stream": "stdout",
       "text": [
        " 0076 trainELBO= 181.755 weights_max= 11.7397\n",
        "Epoch:"
       ]
      },
      {
       "output_type": "stream",
       "stream": "stdout",
       "text": [
        " 0077 trainELBO= 181.304 weights_max= 11.8735\n",
        "Epoch:"
       ]
      },
      {
       "output_type": "stream",
       "stream": "stdout",
       "text": [
        " 0078 trainELBO= 180.746 weights_max= 11.9703\n",
        "Epoch:"
       ]
      },
      {
       "output_type": "stream",
       "stream": "stdout",
       "text": [
        " 0079 trainELBO= 180.325 weights_max= 12.0642\n",
        "Epoch:"
       ]
      },
      {
       "output_type": "stream",
       "stream": "stdout",
       "text": [
        " 0080 trainELBO= 179.903 weights_max= 12.1571\n",
        "Epoch:"
       ]
      },
      {
       "output_type": "stream",
       "stream": "stdout",
       "text": [
        " 0081 trainELBO= 179.318 weights_max= 12.2453\n",
        "Epoch:"
       ]
      },
      {
       "output_type": "stream",
       "stream": "stdout",
       "text": [
        " 0082 trainELBO= 178.904 weights_max= 12.3628\n",
        "Epoch:"
       ]
      },
      {
       "output_type": "stream",
       "stream": "stdout",
       "text": [
        " 0083 trainELBO= 178.615 weights_max= 12.3630\n",
        "Epoch:"
       ]
      },
      {
       "output_type": "stream",
       "stream": "stdout",
       "text": [
        " 0084 trainELBO= 178.023 weights_max= 12.3312\n",
        "Epoch:"
       ]
      },
      {
       "output_type": "stream",
       "stream": "stdout",
       "text": [
        " 0085 trainELBO= 177.736 weights_max= 12.4086\n",
        "Epoch:"
       ]
      },
      {
       "output_type": "stream",
       "stream": "stdout",
       "text": [
        " 0086 trainELBO= 177.089 weights_max= 12.5026\n",
        "Epoch:"
       ]
      },
      {
       "output_type": "stream",
       "stream": "stdout",
       "text": [
        " 0087 trainELBO= 177.079 weights_max= 12.5759\n",
        "Epoch:"
       ]
      },
      {
       "output_type": "stream",
       "stream": "stdout",
       "text": [
        " 0088 trainELBO= 176.348 weights_max= 12.6851\n",
        "Epoch:"
       ]
      },
      {
       "output_type": "stream",
       "stream": "stdout",
       "text": [
        " 0089 trainELBO= 175.867 weights_max= 12.7670\n",
        "Epoch:"
       ]
      },
      {
       "output_type": "stream",
       "stream": "stdout",
       "text": [
        " 0090 trainELBO= 175.591 weights_max= 12.8453\n",
        "Epoch:"
       ]
      },
      {
       "output_type": "stream",
       "stream": "stdout",
       "text": [
        " 0091 trainELBO= 175.080 weights_max= 12.9346\n",
        "Epoch:"
       ]
      },
      {
       "output_type": "stream",
       "stream": "stdout",
       "text": [
        " 0092 trainELBO= 174.890 weights_max= 12.9937\n",
        "Epoch:"
       ]
      },
      {
       "output_type": "stream",
       "stream": "stdout",
       "text": [
        " 0093 trainELBO= 174.406 weights_max= 13.0524\n",
        "Epoch:"
       ]
      },
      {
       "output_type": "stream",
       "stream": "stdout",
       "text": [
        " 0094 trainELBO= 173.730 weights_max= 13.1334\n",
        "Epoch:"
       ]
      },
      {
       "output_type": "stream",
       "stream": "stdout",
       "text": [
        " 0095 trainELBO= 173.642 weights_max= 13.1815\n",
        "Epoch:"
       ]
      },
      {
       "output_type": "stream",
       "stream": "stdout",
       "text": [
        " 0096 trainELBO= 173.062 weights_max= 13.2670\n",
        "Epoch:"
       ]
      },
      {
       "output_type": "stream",
       "stream": "stdout",
       "text": [
        " 0097 trainELBO= 172.805 weights_max= 13.3179\n",
        "Epoch:"
       ]
      },
      {
       "output_type": "stream",
       "stream": "stdout",
       "text": [
        " 0098 trainELBO= 172.236 weights_max= 13.3619\n",
        "Epoch:"
       ]
      },
      {
       "output_type": "stream",
       "stream": "stdout",
       "text": [
        " 0099 trainELBO= 172.239 weights_max= 13.4121\n",
        "Epoch:"
       ]
      },
      {
       "output_type": "stream",
       "stream": "stdout",
       "text": [
        " 0100 trainELBO= 171.505 weights_max= 13.4503\n",
        "Epoch:"
       ]
      },
      {
       "output_type": "stream",
       "stream": "stdout",
       "text": [
        " 0101 trainELBO= 171.156 weights_max= 13.5136\n",
        "Epoch:"
       ]
      },
      {
       "output_type": "stream",
       "stream": "stdout",
       "text": [
        " 0102 trainELBO= 170.911 weights_max= 13.5715\n",
        "Epoch:"
       ]
      },
      {
       "output_type": "stream",
       "stream": "stdout",
       "text": [
        " 0103 trainELBO= 170.371 weights_max= 13.6409\n",
        "Epoch:"
       ]
      },
      {
       "output_type": "stream",
       "stream": "stdout",
       "text": [
        " 0104 trainELBO= 170.146 weights_max= 13.6709\n",
        "Epoch:"
       ]
      },
      {
       "output_type": "stream",
       "stream": "stdout",
       "text": [
        " 0105 trainELBO= 169.530 weights_max= 13.6964\n",
        "Epoch:"
       ]
      },
      {
       "output_type": "stream",
       "stream": "stdout",
       "text": [
        " 0106 trainELBO= 169.364 weights_max= 13.7263\n",
        "Epoch:"
       ]
      },
      {
       "output_type": "stream",
       "stream": "stdout",
       "text": [
        " 0107 trainELBO= 168.954 weights_max= 13.7588\n",
        "Epoch:"
       ]
      },
      {
       "output_type": "stream",
       "stream": "stdout",
       "text": [
        " 0108 trainELBO= 168.665 weights_max= 13.8405\n",
        "Epoch:"
       ]
      },
      {
       "output_type": "stream",
       "stream": "stdout",
       "text": [
        " 0109 trainELBO= 168.067 weights_max= 13.8932\n",
        "Epoch:"
       ]
      },
      {
       "output_type": "stream",
       "stream": "stdout",
       "text": [
        " 0110 trainELBO= 167.942 weights_max= 13.9255\n",
        "Epoch:"
       ]
      },
      {
       "output_type": "stream",
       "stream": "stdout",
       "text": [
        " 0111 trainELBO= 167.465 weights_max= 13.9620\n",
        "Epoch:"
       ]
      },
      {
       "output_type": "stream",
       "stream": "stdout",
       "text": [
        " 0112 trainELBO= 167.202 weights_max= 13.9875\n",
        "Epoch:"
       ]
      },
      {
       "output_type": "stream",
       "stream": "stdout",
       "text": [
        " 0113 trainELBO= 166.883 weights_max= 14.0108\n",
        "Epoch:"
       ]
      },
      {
       "output_type": "stream",
       "stream": "stdout",
       "text": [
        " 0114 trainELBO= 166.689 weights_max= 14.0396\n",
        "Epoch:"
       ]
      },
      {
       "output_type": "stream",
       "stream": "stdout",
       "text": [
        " 0115 trainELBO= 165.949 weights_max= 14.0766\n",
        "Epoch:"
       ]
      },
      {
       "output_type": "stream",
       "stream": "stdout",
       "text": [
        " 0116 trainELBO= 165.968 weights_max= 14.1141\n",
        "Epoch:"
       ]
      },
      {
       "output_type": "stream",
       "stream": "stdout",
       "text": [
        " 0117 trainELBO= 165.709 weights_max= 14.1379\n",
        "Epoch:"
       ]
      },
      {
       "output_type": "stream",
       "stream": "stdout",
       "text": [
        " 0118 trainELBO= 165.268 weights_max= 14.1504\n",
        "Epoch:"
       ]
      },
      {
       "output_type": "stream",
       "stream": "stdout",
       "text": [
        " 0119 trainELBO= 164.799 weights_max= 14.1729\n",
        "Epoch:"
       ]
      },
      {
       "output_type": "stream",
       "stream": "stdout",
       "text": [
        " 0120 trainELBO= 164.578 weights_max= 14.1931\n",
        "Epoch:"
       ]
      },
      {
       "output_type": "stream",
       "stream": "stdout",
       "text": [
        " 0121 trainELBO= 164.424 weights_max= 14.1988\n",
        "Epoch:"
       ]
      },
      {
       "output_type": "stream",
       "stream": "stdout",
       "text": [
        " 0122 trainELBO= 163.764 weights_max= 14.2241\n",
        "Epoch:"
       ]
      },
      {
       "output_type": "stream",
       "stream": "stdout",
       "text": [
        " 0123 trainELBO= 163.649 weights_max= 14.2367\n",
        "Epoch:"
       ]
      },
      {
       "output_type": "stream",
       "stream": "stdout",
       "text": [
        " 0124 trainELBO= 163.228 weights_max= 14.2459\n",
        "Epoch:"
       ]
      },
      {
       "output_type": "stream",
       "stream": "stdout",
       "text": [
        " 0125 trainELBO= 162.912 weights_max= 14.2569\n",
        "Epoch:"
       ]
      },
      {
       "output_type": "stream",
       "stream": "stdout",
       "text": [
        " 0126 trainELBO= 162.679 weights_max= 14.2685\n",
        "Epoch:"
       ]
      },
      {
       "output_type": "stream",
       "stream": "stdout",
       "text": [
        " 0127 trainELBO= 162.639 weights_max= 14.2758\n",
        "Epoch:"
       ]
      },
      {
       "output_type": "stream",
       "stream": "stdout",
       "text": [
        " 0128 trainELBO= 162.266 weights_max= 14.2832\n",
        "Epoch:"
       ]
      },
      {
       "output_type": "stream",
       "stream": "stdout",
       "text": [
        " 0129 trainELBO= 161.781 weights_max= 14.2962\n",
        "Epoch:"
       ]
      },
      {
       "output_type": "stream",
       "stream": "stdout",
       "text": [
        " 0130 trainELBO= 161.561 weights_max= 14.3080\n",
        "Epoch:"
       ]
      },
      {
       "output_type": "stream",
       "stream": "stdout",
       "text": [
        " 0131 trainELBO= 161.188 weights_max= 14.3283\n",
        "Epoch:"
       ]
      },
      {
       "output_type": "stream",
       "stream": "stdout",
       "text": [
        " 0132 trainELBO= 161.036 weights_max= 14.3348\n",
        "Epoch:"
       ]
      },
      {
       "output_type": "stream",
       "stream": "stdout",
       "text": [
        " 0133 trainELBO= 160.577 weights_max= 14.3449\n",
        "Epoch:"
       ]
      },
      {
       "output_type": "stream",
       "stream": "stdout",
       "text": [
        " 0134 trainELBO= 160.571 weights_max= 14.3630\n",
        "Epoch:"
       ]
      },
      {
       "output_type": "stream",
       "stream": "stdout",
       "text": [
        " 0135 trainELBO= 160.019 weights_max= 14.3777\n",
        "Epoch:"
       ]
      },
      {
       "output_type": "stream",
       "stream": "stdout",
       "text": [
        " 0136 trainELBO= 160.038 weights_max= 14.4023\n",
        "Epoch:"
       ]
      },
      {
       "output_type": "stream",
       "stream": "stdout",
       "text": [
        " 0137 trainELBO= 159.770 weights_max= 14.4088\n",
        "Epoch:"
       ]
      },
      {
       "output_type": "stream",
       "stream": "stdout",
       "text": [
        " 0138 trainELBO= 159.050 weights_max= 14.4185\n",
        "Epoch:"
       ]
      },
      {
       "output_type": "stream",
       "stream": "stdout",
       "text": [
        " 0139 trainELBO= 159.013 weights_max= 14.4353\n",
        "Epoch:"
       ]
      },
      {
       "output_type": "stream",
       "stream": "stdout",
       "text": [
        " 0140 trainELBO= 158.970 weights_max= 14.4473\n",
        "Epoch:"
       ]
      },
      {
       "output_type": "stream",
       "stream": "stdout",
       "text": [
        " 0141 trainELBO= 158.562 weights_max= 14.4514\n",
        "Epoch:"
       ]
      },
      {
       "output_type": "stream",
       "stream": "stdout",
       "text": [
        " 0142 trainELBO= 158.213 weights_max= 14.4591\n",
        "Epoch:"
       ]
      },
      {
       "output_type": "stream",
       "stream": "stdout",
       "text": [
        " 0143 trainELBO= 158.004 weights_max= 14.4611\n",
        "Epoch:"
       ]
      },
      {
       "output_type": "stream",
       "stream": "stdout",
       "text": [
        " 0144 trainELBO= 157.639 weights_max= 14.4640\n",
        "Epoch:"
       ]
      },
      {
       "output_type": "stream",
       "stream": "stdout",
       "text": [
        " 0145 trainELBO= 157.532 weights_max= 14.4742\n",
        "Epoch:"
       ]
      },
      {
       "output_type": "stream",
       "stream": "stdout",
       "text": [
        " 0146 trainELBO= 157.172 weights_max= 14.4780\n",
        "Epoch:"
       ]
      },
      {
       "output_type": "stream",
       "stream": "stdout",
       "text": [
        " 0147 trainELBO= 157.181 weights_max= 14.4790\n",
        "Epoch:"
       ]
      },
      {
       "output_type": "stream",
       "stream": "stdout",
       "text": [
        " 0148 trainELBO= 156.877 weights_max= 14.4988\n",
        "Epoch:"
       ]
      },
      {
       "output_type": "stream",
       "stream": "stdout",
       "text": [
        " 0149 trainELBO= 156.458 weights_max= 14.5025\n",
        "Epoch:"
       ]
      },
      {
       "output_type": "stream",
       "stream": "stdout",
       "text": [
        " 0150 trainELBO= 156.438 weights_max= 14.5042\n",
        "Epoch:"
       ]
      },
      {
       "output_type": "stream",
       "stream": "stdout",
       "text": [
        " 0151 trainELBO= 155.962 weights_max= 14.5077\n",
        "Epoch:"
       ]
      },
      {
       "output_type": "stream",
       "stream": "stdout",
       "text": [
        " 0152 trainELBO= 156.057 weights_max= 14.5099\n",
        "Epoch:"
       ]
      },
      {
       "output_type": "stream",
       "stream": "stdout",
       "text": [
        " 0153 trainELBO= 155.528 weights_max= 14.5166\n",
        "Epoch:"
       ]
      },
      {
       "output_type": "stream",
       "stream": "stdout",
       "text": [
        " 0154 trainELBO= 155.676 weights_max= 14.5239\n",
        "Epoch:"
       ]
      },
      {
       "output_type": "stream",
       "stream": "stdout",
       "text": [
        " 0155 trainELBO= 154.852 weights_max= 14.5295\n",
        "Epoch:"
       ]
      },
      {
       "output_type": "stream",
       "stream": "stdout",
       "text": [
        " 0156 trainELBO= 154.948 weights_max= 14.5307\n",
        "Epoch:"
       ]
      },
      {
       "output_type": "stream",
       "stream": "stdout",
       "text": [
        " 0157 trainELBO= 154.964 weights_max= 14.5359\n",
        "Epoch:"
       ]
      },
      {
       "output_type": "stream",
       "stream": "stdout",
       "text": [
        " 0158 trainELBO= 154.405 weights_max= 14.5412\n",
        "Epoch:"
       ]
      },
      {
       "output_type": "stream",
       "stream": "stdout",
       "text": [
        " 0159 trainELBO= 154.074 weights_max= 14.5421\n",
        "Epoch:"
       ]
      },
      {
       "output_type": "stream",
       "stream": "stdout",
       "text": [
        " 0160 trainELBO= 154.212 weights_max= 14.5459\n",
        "Epoch:"
       ]
      },
      {
       "output_type": "stream",
       "stream": "stdout",
       "text": [
        " 0161 trainELBO= 153.891 weights_max= 14.6251\n",
        "Epoch:"
       ]
      },
      {
       "output_type": "stream",
       "stream": "stdout",
       "text": [
        " 0162 trainELBO= 153.608 weights_max= 14.8154\n",
        "Epoch:"
       ]
      },
      {
       "output_type": "stream",
       "stream": "stdout",
       "text": [
        " 0163 trainELBO= 153.295 weights_max= 14.9216\n",
        "Epoch:"
       ]
      },
      {
       "output_type": "stream",
       "stream": "stdout",
       "text": [
        " 0164 trainELBO= 153.249 weights_max= 15.0002\n",
        "Epoch:"
       ]
      },
      {
       "output_type": "stream",
       "stream": "stdout",
       "text": [
        " 0165 trainELBO= 152.699 weights_max= 15.0130\n",
        "Epoch:"
       ]
      },
      {
       "output_type": "stream",
       "stream": "stdout",
       "text": [
        " 0166 trainELBO= 152.762 weights_max= 14.9812\n",
        "Epoch:"
       ]
      },
      {
       "output_type": "stream",
       "stream": "stdout",
       "text": [
        " 0167 trainELBO= 152.380 weights_max= 14.9813\n",
        "Epoch:"
       ]
      },
      {
       "output_type": "stream",
       "stream": "stdout",
       "text": [
        " 0168 trainELBO= 152.251 weights_max= 14.9814\n",
        "Epoch:"
       ]
      },
      {
       "output_type": "stream",
       "stream": "stdout",
       "text": [
        " 0169 trainELBO= 152.012 weights_max= 14.9816\n",
        "Epoch:"
       ]
      },
      {
       "output_type": "stream",
       "stream": "stdout",
       "text": [
        " 0170 trainELBO= 152.044 weights_max= 14.9818\n",
        "Epoch:"
       ]
      },
      {
       "output_type": "stream",
       "stream": "stdout",
       "text": [
        " 0171 trainELBO= 151.654 weights_max= 14.9820\n",
        "Epoch:"
       ]
      },
      {
       "output_type": "stream",
       "stream": "stdout",
       "text": [
        " 0172 trainELBO= 151.590 weights_max= 14.9966\n",
        "Epoch:"
       ]
      },
      {
       "output_type": "stream",
       "stream": "stdout",
       "text": [
        " 0173 trainELBO= 151.425 weights_max= 15.0838\n",
        "Epoch:"
       ]
      },
      {
       "output_type": "stream",
       "stream": "stdout",
       "text": [
        " 0174 trainELBO= 151.167 weights_max= 15.1300\n",
        "Epoch:"
       ]
      },
      {
       "output_type": "stream",
       "stream": "stdout",
       "text": [
        " 0175 trainELBO= 150.940 weights_max= 15.1940\n",
        "Epoch:"
       ]
      },
      {
       "output_type": "stream",
       "stream": "stdout",
       "text": [
        " 0176 trainELBO= 150.527 weights_max= 15.2828\n",
        "Epoch:"
       ]
      },
      {
       "output_type": "stream",
       "stream": "stdout",
       "text": [
        " 0177 trainELBO= 150.299 weights_max= 15.3162\n",
        "Epoch:"
       ]
      },
      {
       "output_type": "stream",
       "stream": "stdout",
       "text": [
        " 0178 trainELBO= 150.344 weights_max= 15.3835\n",
        "Epoch:"
       ]
      },
      {
       "output_type": "stream",
       "stream": "stdout",
       "text": [
        " 0179 trainELBO= 150.084 weights_max= 15.4464\n",
        "Epoch:"
       ]
      },
      {
       "output_type": "stream",
       "stream": "stdout",
       "text": [
        " 0180 trainELBO= 149.896 weights_max= 15.5002\n",
        "Epoch:"
       ]
      },
      {
       "output_type": "stream",
       "stream": "stdout",
       "text": [
        " 0181 trainELBO= 149.692 weights_max= 15.5512\n",
        "Epoch:"
       ]
      },
      {
       "output_type": "stream",
       "stream": "stdout",
       "text": [
        " 0182 trainELBO= 149.523 weights_max= 15.5974\n",
        "Epoch:"
       ]
      },
      {
       "output_type": "stream",
       "stream": "stdout",
       "text": [
        " 0183 trainELBO= 149.331 weights_max= 15.6770\n",
        "Epoch:"
       ]
      },
      {
       "output_type": "stream",
       "stream": "stdout",
       "text": [
        " 0184 trainELBO= 149.126 weights_max= 15.7333\n",
        "Epoch:"
       ]
      },
      {
       "output_type": "stream",
       "stream": "stdout",
       "text": [
        " 0185 trainELBO= 148.987 weights_max= 15.8018\n",
        "Epoch:"
       ]
      },
      {
       "output_type": "stream",
       "stream": "stdout",
       "text": [
        " 0186 trainELBO= 148.642 weights_max= 15.8790\n",
        "Epoch:"
       ]
      },
      {
       "output_type": "stream",
       "stream": "stdout",
       "text": [
        " 0187 trainELBO= 148.441 weights_max= 15.9448\n",
        "Epoch:"
       ]
      },
      {
       "output_type": "stream",
       "stream": "stdout",
       "text": [
        " 0188 trainELBO= 148.290 weights_max= 15.9791\n",
        "Epoch:"
       ]
      },
      {
       "output_type": "stream",
       "stream": "stdout",
       "text": [
        " 0189 trainELBO= 148.068 weights_max= 16.0259\n",
        "Epoch:"
       ]
      },
      {
       "output_type": "stream",
       "stream": "stdout",
       "text": [
        " 0190 trainELBO= 147.908 weights_max= 16.0539\n",
        "Epoch:"
       ]
      },
      {
       "output_type": "stream",
       "stream": "stdout",
       "text": [
        " 0191 trainELBO= 147.789 weights_max= 16.1455\n",
        "Epoch:"
       ]
      },
      {
       "output_type": "stream",
       "stream": "stdout",
       "text": [
        " 0192 trainELBO= 147.592 weights_max= 16.2116\n",
        "Epoch:"
       ]
      },
      {
       "output_type": "stream",
       "stream": "stdout",
       "text": [
        " 0193 trainELBO= 147.220 weights_max= 16.2822\n",
        "Epoch:"
       ]
      },
      {
       "output_type": "stream",
       "stream": "stdout",
       "text": [
        " 0194 trainELBO= 147.160 weights_max= 16.3357\n",
        "Epoch:"
       ]
      },
      {
       "output_type": "stream",
       "stream": "stdout",
       "text": [
        " 0195 trainELBO= 147.113 weights_max= 16.4175\n",
        "Epoch:"
       ]
      },
      {
       "output_type": "stream",
       "stream": "stdout",
       "text": [
        " 0196 trainELBO= 146.620 weights_max= 16.5005\n",
        "Epoch:"
       ]
      },
      {
       "output_type": "stream",
       "stream": "stdout",
       "text": [
        " 0197 trainELBO= 146.496 weights_max= 16.5555\n",
        "Epoch:"
       ]
      },
      {
       "output_type": "stream",
       "stream": "stdout",
       "text": [
        " 0198 trainELBO= 146.460 weights_max= 16.5840\n",
        "Epoch:"
       ]
      },
      {
       "output_type": "stream",
       "stream": "stdout",
       "text": [
        " 0199 trainELBO= 146.360 weights_max= 16.5224\n",
        "Epoch:"
       ]
      },
      {
       "output_type": "stream",
       "stream": "stdout",
       "text": [
        " 0200 trainELBO= 145.884 weights_max= 16.5226\n",
        "Epoch:"
       ]
      },
      {
       "output_type": "stream",
       "stream": "stdout",
       "text": [
        " 0201 trainELBO= 145.940 weights_max= 16.5227\n",
        "Epoch:"
       ]
      },
      {
       "output_type": "stream",
       "stream": "stdout",
       "text": [
        " 0202 trainELBO= 145.801 weights_max= 16.5231\n",
        "Epoch:"
       ]
      },
      {
       "output_type": "stream",
       "stream": "stdout",
       "text": [
        " 0203 trainELBO= 145.363 weights_max= 16.5232\n",
        "Epoch:"
       ]
      },
      {
       "output_type": "stream",
       "stream": "stdout",
       "text": [
        " 0204 trainELBO= 145.387 weights_max= 16.5237\n",
        "Epoch:"
       ]
      },
      {
       "output_type": "stream",
       "stream": "stdout",
       "text": [
        " 0205 trainELBO= 145.280 weights_max= 16.5247\n",
        "Epoch:"
       ]
      },
      {
       "output_type": "stream",
       "stream": "stdout",
       "text": [
        " 0206 trainELBO= 144.934 weights_max= 16.5258\n",
        "Epoch:"
       ]
      },
      {
       "output_type": "stream",
       "stream": "stdout",
       "text": [
        " 0207 trainELBO= 144.661 weights_max= 16.5281\n",
        "Epoch:"
       ]
      },
      {
       "output_type": "stream",
       "stream": "stdout",
       "text": [
        " 0208 trainELBO= 144.461 weights_max= 16.5308\n",
        "Epoch:"
       ]
      },
      {
       "output_type": "stream",
       "stream": "stdout",
       "text": [
        " 0209 trainELBO= 144.461 weights_max= 16.5051\n",
        "Epoch:"
       ]
      },
      {
       "output_type": "stream",
       "stream": "stdout",
       "text": [
        " 0210 trainELBO= 144.273 weights_max= 16.5056\n",
        "Epoch:"
       ]
      },
      {
       "output_type": "stream",
       "stream": "stdout",
       "text": [
        " 0211 trainELBO= 144.149 weights_max= 16.4739\n",
        "Epoch:"
       ]
      },
      {
       "output_type": "stream",
       "stream": "stdout",
       "text": [
        " 0212 trainELBO= 143.837 weights_max= 16.4740\n",
        "Epoch:"
       ]
      },
      {
       "output_type": "stream",
       "stream": "stdout",
       "text": [
        " 0213 trainELBO= 143.736 weights_max= 16.4741\n",
        "Epoch:"
       ]
      },
      {
       "output_type": "stream",
       "stream": "stdout",
       "text": [
        " 0214 trainELBO= 143.580 weights_max= 16.4742\n",
        "Epoch:"
       ]
      },
      {
       "output_type": "stream",
       "stream": "stdout",
       "text": [
        " 0215 trainELBO= 143.314 weights_max= 16.4745\n",
        "Epoch:"
       ]
      },
      {
       "output_type": "stream",
       "stream": "stdout",
       "text": [
        " 0216 trainELBO= 143.268 weights_max= 16.4750\n",
        "Epoch:"
       ]
      },
      {
       "output_type": "stream",
       "stream": "stdout",
       "text": [
        " 0217 trainELBO= 142.894 weights_max= 16.4762\n",
        "Epoch:"
       ]
      },
      {
       "output_type": "stream",
       "stream": "stdout",
       "text": [
        " 0218 trainELBO= 142.886 weights_max= 16.5918\n",
        "Epoch:"
       ]
      },
      {
       "output_type": "stream",
       "stream": "stdout",
       "text": [
        " 0219 trainELBO= 142.490 weights_max= 16.7255\n",
        "Epoch:"
       ]
      },
      {
       "output_type": "stream",
       "stream": "stdout",
       "text": [
        " 0220 trainELBO= nan weights_max= nan\n",
        "Epoch:"
       ]
      },
      {
       "output_type": "stream",
       "stream": "stdout",
       "text": [
        " 0221 trainELBO= nan weights_max= nan\n",
        "Epoch:"
       ]
      },
      {
       "output_type": "stream",
       "stream": "stdout",
       "text": [
        " 0222 trainELBO= nan weights_max= nan\n",
        "Epoch:"
       ]
      },
      {
       "output_type": "stream",
       "stream": "stdout",
       "text": [
        " 0223 trainELBO= nan weights_max= nan\n",
        "Epoch:"
       ]
      },
      {
       "output_type": "stream",
       "stream": "stdout",
       "text": [
        " 0224 trainELBO= nan weights_max= nan\n",
        "Epoch:"
       ]
      },
      {
       "output_type": "stream",
       "stream": "stdout",
       "text": [
        " 0225 trainELBO= nan weights_max= nan\n",
        "Epoch:"
       ]
      },
      {
       "output_type": "stream",
       "stream": "stdout",
       "text": [
        " 0226 trainELBO= nan weights_max= nan\n",
        "Epoch:"
       ]
      },
      {
       "output_type": "stream",
       "stream": "stdout",
       "text": [
        " 0227 trainELBO= nan weights_max= nan\n",
        "Epoch:"
       ]
      },
      {
       "output_type": "stream",
       "stream": "stdout",
       "text": [
        " 0228 trainELBO= nan weights_max= nan\n",
        "Epoch:"
       ]
      },
      {
       "output_type": "stream",
       "stream": "stdout",
       "text": [
        " 0229 trainELBO= nan weights_max= nan\n",
        "Epoch:"
       ]
      },
      {
       "output_type": "stream",
       "stream": "stdout",
       "text": [
        " 0230 trainELBO= nan weights_max= nan\n",
        "Epoch:"
       ]
      },
      {
       "output_type": "stream",
       "stream": "stdout",
       "text": [
        " 0231 trainELBO= nan weights_max= nan\n",
        "Epoch:"
       ]
      },
      {
       "output_type": "stream",
       "stream": "stdout",
       "text": [
        " 0232 trainELBO= nan weights_max= nan\n",
        "Epoch:"
       ]
      },
      {
       "output_type": "stream",
       "stream": "stdout",
       "text": [
        " 0233 trainELBO= nan weights_max= nan\n",
        "Epoch:"
       ]
      },
      {
       "output_type": "stream",
       "stream": "stdout",
       "text": [
        " 0234 trainELBO= nan weights_max= nan\n",
        "Epoch:"
       ]
      },
      {
       "output_type": "stream",
       "stream": "stdout",
       "text": [
        " 0235 trainELBO= nan weights_max= nan\n",
        "Epoch:"
       ]
      },
      {
       "output_type": "stream",
       "stream": "stdout",
       "text": [
        " 0236 trainELBO= nan weights_max= nan\n",
        "Epoch:"
       ]
      },
      {
       "output_type": "stream",
       "stream": "stdout",
       "text": [
        " 0237 trainELBO= nan weights_max= nan\n",
        "Epoch:"
       ]
      },
      {
       "output_type": "stream",
       "stream": "stdout",
       "text": [
        " 0238 trainELBO= nan weights_max= nan\n",
        "Epoch:"
       ]
      },
      {
       "output_type": "stream",
       "stream": "stdout",
       "text": [
        " 0239 trainELBO= nan weights_max= nan\n",
        "Epoch:"
       ]
      },
      {
       "output_type": "stream",
       "stream": "stdout",
       "text": [
        " 0240 trainELBO= nan weights_max= nan\n",
        "Epoch:"
       ]
      },
      {
       "output_type": "stream",
       "stream": "stdout",
       "text": [
        " 0241 trainELBO= nan weights_max= nan\n",
        "Epoch:"
       ]
      },
      {
       "output_type": "stream",
       "stream": "stdout",
       "text": [
        " 0242 trainELBO= nan weights_max= nan\n",
        "Epoch:"
       ]
      },
      {
       "output_type": "stream",
       "stream": "stdout",
       "text": [
        " 0243 trainELBO= nan weights_max= nan\n",
        "Epoch:"
       ]
      },
      {
       "output_type": "stream",
       "stream": "stdout",
       "text": [
        " 0244 trainELBO= nan weights_max= nan\n",
        "Epoch:"
       ]
      },
      {
       "output_type": "stream",
       "stream": "stdout",
       "text": [
        " 0245 trainELBO= nan weights_max= nan\n",
        "Epoch:"
       ]
      },
      {
       "output_type": "stream",
       "stream": "stdout",
       "text": [
        " 0246 trainELBO= nan weights_max= nan\n",
        "Epoch:"
       ]
      },
      {
       "output_type": "stream",
       "stream": "stdout",
       "text": [
        " 0247 trainELBO= nan weights_max= nan\n",
        "Epoch:"
       ]
      },
      {
       "output_type": "stream",
       "stream": "stdout",
       "text": [
        " 0248 trainELBO= nan weights_max= nan\n",
        "Epoch:"
       ]
      },
      {
       "output_type": "stream",
       "stream": "stdout",
       "text": [
        " 0249 trainELBO= nan weights_max= nan\n",
        "Epoch:"
       ]
      },
      {
       "output_type": "stream",
       "stream": "stdout",
       "text": [
        " 0250 trainELBO= nan weights_max= nan\n",
        "Epoch:"
       ]
      },
      {
       "output_type": "stream",
       "stream": "stdout",
       "text": [
        " 0251 trainELBO= nan weights_max= nan\n",
        "Epoch:"
       ]
      },
      {
       "output_type": "stream",
       "stream": "stdout",
       "text": [
        " 0252 trainELBO= nan weights_max= nan\n",
        "Epoch:"
       ]
      },
      {
       "output_type": "stream",
       "stream": "stdout",
       "text": [
        " 0253 trainELBO= nan weights_max= nan\n",
        "Epoch:"
       ]
      },
      {
       "output_type": "stream",
       "stream": "stdout",
       "text": [
        " 0254 trainELBO= nan weights_max= nan\n",
        "Epoch:"
       ]
      },
      {
       "output_type": "stream",
       "stream": "stdout",
       "text": [
        " 0255 trainELBO= nan weights_max= nan\n",
        "Epoch:"
       ]
      },
      {
       "output_type": "stream",
       "stream": "stdout",
       "text": [
        " 0256 trainELBO= nan weights_max= nan\n",
        "Epoch:"
       ]
      },
      {
       "output_type": "stream",
       "stream": "stdout",
       "text": [
        " 0257 trainELBO= nan weights_max= nan\n",
        "Epoch:"
       ]
      },
      {
       "output_type": "stream",
       "stream": "stdout",
       "text": [
        " 0258 trainELBO= nan weights_max= nan\n",
        "Epoch:"
       ]
      },
      {
       "output_type": "stream",
       "stream": "stdout",
       "text": [
        " 0259 trainELBO= nan weights_max= nan\n",
        "Epoch:"
       ]
      },
      {
       "output_type": "stream",
       "stream": "stdout",
       "text": [
        " 0260 trainELBO= nan weights_max= nan\n",
        "Epoch:"
       ]
      },
      {
       "output_type": "stream",
       "stream": "stdout",
       "text": [
        " 0261 trainELBO= nan weights_max= nan\n",
        "Epoch:"
       ]
      },
      {
       "output_type": "stream",
       "stream": "stdout",
       "text": [
        " 0262 trainELBO= nan weights_max= nan\n",
        "Epoch:"
       ]
      },
      {
       "output_type": "stream",
       "stream": "stdout",
       "text": [
        " 0263 trainELBO= nan weights_max= nan\n",
        "Epoch:"
       ]
      },
      {
       "output_type": "stream",
       "stream": "stdout",
       "text": [
        " 0264 trainELBO= nan weights_max= nan\n",
        "Epoch:"
       ]
      },
      {
       "output_type": "stream",
       "stream": "stdout",
       "text": [
        " 0265 trainELBO= nan weights_max= nan\n",
        "Epoch:"
       ]
      },
      {
       "output_type": "stream",
       "stream": "stdout",
       "text": [
        " 0266 trainELBO= nan weights_max= nan\n",
        "Epoch:"
       ]
      },
      {
       "output_type": "stream",
       "stream": "stdout",
       "text": [
        " 0267 trainELBO= nan weights_max= nan\n",
        "Epoch:"
       ]
      },
      {
       "output_type": "stream",
       "stream": "stdout",
       "text": [
        " 0268 trainELBO= nan weights_max= nan\n",
        "Epoch:"
       ]
      },
      {
       "output_type": "stream",
       "stream": "stdout",
       "text": [
        " 0269 trainELBO= nan weights_max= nan\n",
        "Epoch:"
       ]
      },
      {
       "output_type": "stream",
       "stream": "stdout",
       "text": [
        " 0270 trainELBO= nan weights_max= nan\n",
        "Epoch:"
       ]
      },
      {
       "output_type": "stream",
       "stream": "stdout",
       "text": [
        " 0271 trainELBO= nan weights_max= nan\n",
        "Epoch:"
       ]
      },
      {
       "output_type": "stream",
       "stream": "stdout",
       "text": [
        " 0272 trainELBO= nan weights_max= nan\n",
        "Epoch:"
       ]
      },
      {
       "output_type": "stream",
       "stream": "stdout",
       "text": [
        " 0273 trainELBO= nan weights_max= nan\n",
        "Epoch:"
       ]
      },
      {
       "output_type": "stream",
       "stream": "stdout",
       "text": [
        " 0274 trainELBO= nan weights_max= nan\n",
        "Epoch:"
       ]
      },
      {
       "output_type": "stream",
       "stream": "stdout",
       "text": [
        " 0275 trainELBO= nan weights_max= nan\n",
        "Epoch:"
       ]
      },
      {
       "output_type": "stream",
       "stream": "stdout",
       "text": [
        " 0276 trainELBO= nan weights_max= nan\n",
        "Epoch:"
       ]
      },
      {
       "output_type": "stream",
       "stream": "stdout",
       "text": [
        " 0277 trainELBO= nan weights_max= nan\n",
        "Epoch:"
       ]
      },
      {
       "output_type": "stream",
       "stream": "stdout",
       "text": [
        " 0278 trainELBO= nan weights_max= nan\n",
        "Epoch:"
       ]
      },
      {
       "output_type": "stream",
       "stream": "stdout",
       "text": [
        " 0279 trainELBO= nan weights_max= nan\n",
        "Epoch:"
       ]
      },
      {
       "output_type": "stream",
       "stream": "stdout",
       "text": [
        " 0280 trainELBO= nan weights_max= nan\n",
        "Epoch:"
       ]
      },
      {
       "output_type": "stream",
       "stream": "stdout",
       "text": [
        " 0281 trainELBO= nan weights_max= nan\n",
        "Epoch:"
       ]
      },
      {
       "output_type": "stream",
       "stream": "stdout",
       "text": [
        " 0282 trainELBO= nan weights_max= nan\n"
       ]
      },
      {
       "output_type": "stream",
       "stream": "stderr",
       "text": [
        "Exception AssertionError: AssertionError(\"Nesting violated for default stack of <type 'weakref'> objects\",) in <bound method InteractiveSession.__del__ of <tensorflow.python.client.session.InteractiveSession object at 0x7f4d507d7810>> ignored\n"
       ]
      },
      {
       "ename": "KeyboardInterrupt",
       "evalue": "",
       "output_type": "pyerr",
       "traceback": [
        "\u001b[1;31m---------------------------------------------------------------------------\u001b[0m\n\u001b[1;31mKeyboardInterrupt\u001b[0m                         Traceback (most recent call last)",
        "\u001b[1;32m<ipython-input-21-029516e4b80a>\u001b[0m in \u001b[0;36m<module>\u001b[1;34m()\u001b[0m\n\u001b[0;32m      6\u001b[0m \u001b[1;33m\u001b[0m\u001b[0m\n\u001b[0;32m      7\u001b[0m \u001b[0mCUDA_VISIBLE_DEVICES\u001b[0m\u001b[1;33m=\u001b[0m\u001b[1;34m\"1,2,4,5,6,7\"\u001b[0m\u001b[1;33m\u001b[0m\u001b[0m\n\u001b[1;32m----> 8\u001b[1;33m \u001b[0mvae\u001b[0m \u001b[1;33m=\u001b[0m \u001b[0mtrain\u001b[0m\u001b[1;33m(\u001b[0m\u001b[0mnetwork_architecture\u001b[0m\u001b[1;33m,\u001b[0m \u001b[0mbatch_size\u001b[0m\u001b[1;33m=\u001b[0m\u001b[1;36m100\u001b[0m\u001b[1;33m,\u001b[0m\u001b[0mtraining_epochs\u001b[0m\u001b[1;33m=\u001b[0m\u001b[1;36m500\u001b[0m\u001b[1;33m,\u001b[0m \u001b[0mdisplay_step\u001b[0m\u001b[1;33m=\u001b[0m\u001b[1;36m1\u001b[0m\u001b[1;33m,\u001b[0m \u001b[0mtransfer_fct\u001b[0m\u001b[1;33m=\u001b[0m\u001b[0mtf\u001b[0m\u001b[1;33m.\u001b[0m\u001b[0mnn\u001b[0m\u001b[1;33m.\u001b[0m\u001b[0mrelu\u001b[0m\u001b[1;33m)\u001b[0m\u001b[1;33m\u001b[0m\u001b[0m\n\u001b[0m\u001b[0;32m      9\u001b[0m \u001b[0mvae\u001b[0m\u001b[1;33m.\u001b[0m\u001b[0msess\u001b[0m\u001b[1;33m.\u001b[0m\u001b[0mclose\u001b[0m\u001b[1;33m(\u001b[0m\u001b[1;33m)\u001b[0m\u001b[1;33m\u001b[0m\u001b[0m\n",
        "\u001b[1;32m<ipython-input-19-5b9797373569>\u001b[0m in \u001b[0;36mtrain\u001b[1;34m(network_architecture, learning_rate, batch_size, training_epochs, display_step, transfer_fct)\u001b[0m\n\u001b[0;32m     21\u001b[0m             \u001b[1;31m#    batch_xs, _ = mnist.validation.next_batch(batch_size)\u001b[0m\u001b[1;33m\u001b[0m\u001b[1;33m\u001b[0m\u001b[0m\n\u001b[0;32m     22\u001b[0m             \u001b[1;31m# Fit training using batch data\u001b[0m\u001b[1;33m\u001b[0m\u001b[1;33m\u001b[0m\u001b[0m\n\u001b[1;32m---> 23\u001b[1;33m             \u001b[0mbatch_xs\u001b[0m \u001b[1;33m=\u001b[0m \u001b[0mbernoullisample\u001b[0m\u001b[1;33m(\u001b[0m\u001b[0mbatch_xs\u001b[0m\u001b[1;33m)\u001b[0m\u001b[1;33m\u001b[0m\u001b[0m\n\u001b[0m\u001b[0;32m     24\u001b[0m             \u001b[0midx\u001b[0m \u001b[1;33m=\u001b[0m \u001b[0mconvert_col_idx\u001b[0m\u001b[1;33m(\u001b[0m\u001b[0mnetwork_architecture\u001b[0m\u001b[1;33m[\u001b[0m\u001b[1;34m\"n_z\"\u001b[0m\u001b[1;33m]\u001b[0m\u001b[1;33m,\u001b[0m\u001b[0mbatch_idx\u001b[0m\u001b[1;33m)\u001b[0m\u001b[1;33m\u001b[0m\u001b[0m\n\u001b[0;32m     25\u001b[0m \u001b[1;33m\u001b[0m\u001b[0m\n",
        "\u001b[1;32m<ipython-input-2-c24290fbfbf5>\u001b[0m in \u001b[0;36mbernoullisample\u001b[1;34m(x)\u001b[0m\n\u001b[0;32m     20\u001b[0m \u001b[1;33m\u001b[0m\u001b[0m\n\u001b[0;32m     21\u001b[0m \u001b[1;32mdef\u001b[0m \u001b[0mbernoullisample\u001b[0m\u001b[1;33m(\u001b[0m\u001b[0mx\u001b[0m\u001b[1;33m)\u001b[0m\u001b[1;33m:\u001b[0m\u001b[1;33m\u001b[0m\u001b[0m\n\u001b[1;32m---> 22\u001b[1;33m     \u001b[1;32mreturn\u001b[0m \u001b[0mnp\u001b[0m\u001b[1;33m.\u001b[0m\u001b[0mrandom\u001b[0m\u001b[1;33m.\u001b[0m\u001b[0mbinomial\u001b[0m\u001b[1;33m(\u001b[0m\u001b[1;36m1\u001b[0m\u001b[1;33m,\u001b[0m\u001b[0mx\u001b[0m\u001b[1;33m,\u001b[0m\u001b[0msize\u001b[0m\u001b[1;33m=\u001b[0m\u001b[0mx\u001b[0m\u001b[1;33m.\u001b[0m\u001b[0mshape\u001b[0m\u001b[1;33m)\u001b[0m\u001b[1;33m\u001b[0m\u001b[0m\n\u001b[0m",
        "\u001b[1;32m/homes/hkim/.local/lib/python2.7/site-packages/numpy/random/mtrand.so\u001b[0m in \u001b[0;36mmtrand.RandomState.binomial (numpy/random/mtrand/mtrand.c:28242)\u001b[1;34m()\u001b[0m\n",
        "\u001b[1;32m/homes/hkim/.local/lib/python2.7/site-packages/numpy/core/fromnumeric.pyc\u001b[0m in \u001b[0;36many\u001b[1;34m(a, axis, out, keepdims)\u001b[0m\n\u001b[0;32m   1966\u001b[0m \u001b[1;33m\u001b[0m\u001b[0m\n\u001b[0;32m   1967\u001b[0m     \u001b[1;32mtry\u001b[0m\u001b[1;33m:\u001b[0m\u001b[1;33m\u001b[0m\u001b[0m\n\u001b[1;32m-> 1968\u001b[1;33m         \u001b[1;32mreturn\u001b[0m \u001b[0marr\u001b[0m\u001b[1;33m.\u001b[0m\u001b[0many\u001b[0m\u001b[1;33m(\u001b[0m\u001b[0maxis\u001b[0m\u001b[1;33m=\u001b[0m\u001b[0maxis\u001b[0m\u001b[1;33m,\u001b[0m \u001b[0mout\u001b[0m\u001b[1;33m=\u001b[0m\u001b[0mout\u001b[0m\u001b[1;33m,\u001b[0m \u001b[0mkeepdims\u001b[0m\u001b[1;33m=\u001b[0m\u001b[0mkeepdims\u001b[0m\u001b[1;33m)\u001b[0m\u001b[1;33m\u001b[0m\u001b[0m\n\u001b[0m\u001b[0;32m   1969\u001b[0m     \u001b[1;32mexcept\u001b[0m \u001b[0mTypeError\u001b[0m\u001b[1;33m:\u001b[0m\u001b[1;33m\u001b[0m\u001b[0m\n\u001b[0;32m   1970\u001b[0m         \u001b[1;32mreturn\u001b[0m \u001b[0marr\u001b[0m\u001b[1;33m.\u001b[0m\u001b[0many\u001b[0m\u001b[1;33m(\u001b[0m\u001b[0maxis\u001b[0m\u001b[1;33m=\u001b[0m\u001b[0maxis\u001b[0m\u001b[1;33m,\u001b[0m \u001b[0mout\u001b[0m\u001b[1;33m=\u001b[0m\u001b[0mout\u001b[0m\u001b[1;33m)\u001b[0m\u001b[1;33m\u001b[0m\u001b[0m\n",
        "\u001b[1;32m/homes/hkim/.local/lib/python2.7/site-packages/numpy/core/_methods.pyc\u001b[0m in \u001b[0;36m_any\u001b[1;34m(a, axis, dtype, out, keepdims)\u001b[0m\n\u001b[0;32m     35\u001b[0m     \u001b[1;32mreturn\u001b[0m \u001b[0mumr_prod\u001b[0m\u001b[1;33m(\u001b[0m\u001b[0ma\u001b[0m\u001b[1;33m,\u001b[0m \u001b[0maxis\u001b[0m\u001b[1;33m,\u001b[0m \u001b[0mdtype\u001b[0m\u001b[1;33m,\u001b[0m \u001b[0mout\u001b[0m\u001b[1;33m,\u001b[0m \u001b[0mkeepdims\u001b[0m\u001b[1;33m)\u001b[0m\u001b[1;33m\u001b[0m\u001b[0m\n\u001b[0;32m     36\u001b[0m \u001b[1;33m\u001b[0m\u001b[0m\n\u001b[1;32m---> 37\u001b[1;33m \u001b[1;32mdef\u001b[0m \u001b[0m_any\u001b[0m\u001b[1;33m(\u001b[0m\u001b[0ma\u001b[0m\u001b[1;33m,\u001b[0m \u001b[0maxis\u001b[0m\u001b[1;33m=\u001b[0m\u001b[0mNone\u001b[0m\u001b[1;33m,\u001b[0m \u001b[0mdtype\u001b[0m\u001b[1;33m=\u001b[0m\u001b[0mNone\u001b[0m\u001b[1;33m,\u001b[0m \u001b[0mout\u001b[0m\u001b[1;33m=\u001b[0m\u001b[0mNone\u001b[0m\u001b[1;33m,\u001b[0m \u001b[0mkeepdims\u001b[0m\u001b[1;33m=\u001b[0m\u001b[0mFalse\u001b[0m\u001b[1;33m)\u001b[0m\u001b[1;33m:\u001b[0m\u001b[1;33m\u001b[0m\u001b[0m\n\u001b[0m\u001b[0;32m     38\u001b[0m     \u001b[1;32mreturn\u001b[0m \u001b[0mumr_any\u001b[0m\u001b[1;33m(\u001b[0m\u001b[0ma\u001b[0m\u001b[1;33m,\u001b[0m \u001b[0maxis\u001b[0m\u001b[1;33m,\u001b[0m \u001b[0mdtype\u001b[0m\u001b[1;33m,\u001b[0m \u001b[0mout\u001b[0m\u001b[1;33m,\u001b[0m \u001b[0mkeepdims\u001b[0m\u001b[1;33m)\u001b[0m\u001b[1;33m\u001b[0m\u001b[0m\n\u001b[0;32m     39\u001b[0m \u001b[1;33m\u001b[0m\u001b[0m\n",
        "\u001b[1;31mKeyboardInterrupt\u001b[0m: "
       ]
      }
     ],
     "prompt_number": 21
    },
    {
     "cell_type": "code",
     "collapsed": false,
     "input": [
      "idx=[1,2,3]; \n",
      "perm=np.arange(3); \n",
      "np.random.shuffle(perm); \n",
      "b=[idx[i] for i in perm]\n",
      "b"
     ],
     "language": "python",
     "metadata": {},
     "outputs": [
      {
       "metadata": {},
       "output_type": "pyout",
       "prompt_number": 61,
       "text": [
        "[3, 2, 1]"
       ]
      }
     ],
     "prompt_number": 61
    },
    {
     "cell_type": "code",
     "collapsed": false,
     "input": [
      "idx=tf.Variable([0,1],dtype=tf.int32)\n",
      "b=tf.Variable([4.0,3.0,2.0],dtype=tf.float32)\n",
      "sess.close()\n",
      "init = tf.initialize_all_variables()\n",
      "sess=tf.InteractiveSession()\n",
      "sess.run(init)\n",
      "c=[[1,2] for i in idx]\n",
      "#print sess.run(tf.gather(b,idx))\n",
      "print sess.run(c)"
     ],
     "language": "python",
     "metadata": {},
     "outputs": [
      {
       "ename": "TypeError",
       "evalue": "'Variable' object is not iterable.",
       "output_type": "pyerr",
       "traceback": [
        "\u001b[1;31m---------------------------------------------------------------------------\u001b[0m\n\u001b[1;31mTypeError\u001b[0m                                 Traceback (most recent call last)",
        "\u001b[1;32m<ipython-input-49-e7bbc992e335>\u001b[0m in \u001b[0;36m<module>\u001b[1;34m()\u001b[0m\n\u001b[0;32m      5\u001b[0m \u001b[0msess\u001b[0m\u001b[1;33m=\u001b[0m\u001b[0mtf\u001b[0m\u001b[1;33m.\u001b[0m\u001b[0mInteractiveSession\u001b[0m\u001b[1;33m(\u001b[0m\u001b[1;33m)\u001b[0m\u001b[1;33m\u001b[0m\u001b[0m\n\u001b[0;32m      6\u001b[0m \u001b[0msess\u001b[0m\u001b[1;33m.\u001b[0m\u001b[0mrun\u001b[0m\u001b[1;33m(\u001b[0m\u001b[0minit\u001b[0m\u001b[1;33m)\u001b[0m\u001b[1;33m\u001b[0m\u001b[0m\n\u001b[1;32m----> 7\u001b[1;33m \u001b[0mc\u001b[0m\u001b[1;33m=\u001b[0m\u001b[1;33m[\u001b[0m\u001b[1;33m[\u001b[0m\u001b[1;36m1\u001b[0m\u001b[1;33m,\u001b[0m\u001b[1;36m2\u001b[0m\u001b[1;33m]\u001b[0m \u001b[1;32mfor\u001b[0m \u001b[0mi\u001b[0m \u001b[1;32min\u001b[0m \u001b[0midx\u001b[0m\u001b[1;33m]\u001b[0m\u001b[1;33m\u001b[0m\u001b[0m\n\u001b[0m\u001b[0;32m      8\u001b[0m \u001b[1;31m#print sess.run(tf.gather(b,idx))\u001b[0m\u001b[1;33m\u001b[0m\u001b[1;33m\u001b[0m\u001b[0m\n\u001b[0;32m      9\u001b[0m \u001b[1;32mprint\u001b[0m \u001b[0msess\u001b[0m\u001b[1;33m.\u001b[0m\u001b[0mrun\u001b[0m\u001b[1;33m(\u001b[0m\u001b[0mc\u001b[0m\u001b[1;33m)\u001b[0m\u001b[1;33m\u001b[0m\u001b[0m\n",
        "\u001b[1;32m/homes/hkim/.local/lib/python2.7/site-packages/tensorflow/python/ops/variables.pyc\u001b[0m in \u001b[0;36m__iter__\u001b[1;34m(self)\u001b[0m\n\u001b[0;32m    370\u001b[0m       \u001b[0mTypeError\u001b[0m\u001b[1;33m:\u001b[0m \u001b[0mwhen\u001b[0m \u001b[0minvoked\u001b[0m\u001b[1;33m.\u001b[0m\u001b[1;33m\u001b[0m\u001b[0m\n\u001b[0;32m    371\u001b[0m     \"\"\"\n\u001b[1;32m--> 372\u001b[1;33m     \u001b[1;32mraise\u001b[0m \u001b[0mTypeError\u001b[0m\u001b[1;33m(\u001b[0m\u001b[1;34m\"'Variable' object is not iterable.\"\u001b[0m\u001b[1;33m)\u001b[0m\u001b[1;33m\u001b[0m\u001b[0m\n\u001b[0m\u001b[0;32m    373\u001b[0m \u001b[1;33m\u001b[0m\u001b[0m\n\u001b[0;32m    374\u001b[0m   \u001b[1;32mdef\u001b[0m \u001b[0mvalue\u001b[0m\u001b[1;33m(\u001b[0m\u001b[0mself\u001b[0m\u001b[1;33m)\u001b[0m\u001b[1;33m:\u001b[0m\u001b[1;33m\u001b[0m\u001b[0m\n",
        "\u001b[1;31mTypeError\u001b[0m: 'Variable' object is not iterable."
       ]
      }
     ],
     "prompt_number": 49
    },
    {
     "cell_type": "code",
     "collapsed": false,
     "input": [
      "batch_xs, _ , batch_idx = mnist.train.next_batch(3)\n",
      "batch_xs"
     ],
     "language": "python",
     "metadata": {},
     "outputs": [
      {
       "metadata": {},
       "output_type": "pyout",
       "prompt_number": 47,
       "text": [
        "array([[ 0.,  0.,  0., ...,  0.,  0.,  0.],\n",
        "       [ 0.,  0.,  0., ...,  0.,  0.,  0.],\n",
        "       [ 0.,  0.,  0., ...,  0.,  0.,  0.]], dtype=float32)"
       ]
      }
     ],
     "prompt_number": 47
    },
    {
     "cell_type": "code",
     "collapsed": false,
     "input": [
      "#for var in tf.trainable_variables():\n",
      "#    print var.name\n",
      "np.amax(2,3,4)"
     ],
     "language": "python",
     "metadata": {},
     "outputs": [
      {
       "metadata": {},
       "output_type": "pyout",
       "prompt_number": 96,
       "text": [
        "3"
       ]
      }
     ],
     "prompt_number": 96
    },
    {
     "cell_type": "code",
     "collapsed": false,
     "input": [],
     "language": "python",
     "metadata": {},
     "outputs": []
    }
   ],
   "metadata": {}
  }
 ]
}